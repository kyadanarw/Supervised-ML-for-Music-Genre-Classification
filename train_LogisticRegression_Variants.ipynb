{
 "cells": [
  {
   "cell_type": "code",
   "execution_count": 2,
   "metadata": {},
   "outputs": [],
   "source": [
    "#Import necessary libraries\n",
    "from sklearn.preprocessing import StandardScaler\n",
    "from sklearn.linear_model import LogisticRegression\n",
    "from sklearn.pipeline import Pipeline\n",
    "from sklearn.metrics import classification_report,confusion_matrix\n",
    "from sklearn.decomposition import PCA\n",
    "from sklearn.model_selection import KFold, cross_val_score,GridSearchCV\n",
    "import numpy as np\n"
   ]
  },
  {
   "cell_type": "markdown",
   "metadata": {},
   "source": [
    "\n",
    "def plain_LogR(features, labels):\n",
    "    \n",
    "\n",
    "    steps_plain_classifier= [('LogR', LogisticRegression())]\n",
    "    \n",
    "    pipeline_plain=Pipeline(steps_plain_classifier)\n",
    "    \n",
    "    #train with plain classifier\n",
    "    trained_model=pipeline_plain.fit(features,labels)\n",
    "    \n",
    "    return trained_plainDT\n",
    "\n"
   ]
  },
  {
   "cell_type": "markdown",
   "metadata": {},
   "source": [
    "def LogR_with_Scaled(features, labels):\n",
    "\n",
    "    \n",
    "    steps_scaler= [('scaler', StandardScaler()),\n",
    "                   ('LogR', LogisticRegression())]\n",
    "    \n",
    "    pipeline_scaler=Pipeline(steps_scaler)\n",
    "    \n",
    "    #train with preprocessed data\n",
    "    trained_model=pipeline_scaler.fit(features,labels)\n",
    "    \n",
    "    return trained_model\n"
   ]
  },
  {
   "cell_type": "markdown",
   "metadata": {},
   "source": [
    "def LogR_with_Scaled_PCA(features, labels):\n",
    "\n",
    "\n",
    "    steps_scaler_pca = [('scaler', StandardScaler()),\n",
    "                        (\"pca\", PCA(n_components=7)), \n",
    "                        ('LogR', LogisticRegression())]\n",
    "    \n",
    "    pipeline_scaler_pca=Pipeline(steps_scaler_pca)\n",
    "    \n",
    "    #train with preprocessed data\n",
    "    trained_model=pipeline_scaler_pca.fit(features,labels)\n",
    "    \n",
    "    return trained_model"
   ]
  },
  {
   "cell_type": "markdown",
   "metadata": {},
   "source": [
    "def CV_plain_LogR(features,labels):\n",
    "    \n",
    "    steps_plain_classifier= [('LogR', LogisticRegression())]\n",
    "    \n",
    "    pipeline_plain=Pipeline(steps_plain_classifier)\n",
    "    \n",
    "    # Set up our K-fold cross-validation\n",
    "    kf = KFold(5)\n",
    "\n",
    "    # Train our models using KFold cv\n",
    "    CV_trained_model=cross_val_score(pipeline_plain, features, labels, cv=kf)\n",
    "\n",
    "    return CV_trained_model\n",
    "    "
   ]
  },
  {
   "cell_type": "markdown",
   "metadata": {},
   "source": [
    "def CV_LogR_with_Scaling(features,labels):\n",
    "    steps_scaler= [('scaler', StandardScaler()),\n",
    "                   ('LogR', LogisticRegression())]\n",
    "    \n",
    "    pipeline_scaler=Pipeline(steps_scaler)\n",
    "    \n",
    "    # Set up our K-fold cross-validation\n",
    "    kf = KFold(5)\n",
    "\n",
    "    # Train our models using KFold cv\n",
    "    CV_trained_model=cross_val_score(pipeline_scaler, features, labels, cv=kf)\n",
    "\n",
    "    return CV_trained_model"
   ]
  },
  {
   "cell_type": "markdown",
   "metadata": {},
   "source": [
    "def CV_LogR_with_Scaling_PCA(features,labels):\n",
    "    \n",
    "\n",
    "    steps_scaler_pca = [('scaler', StandardScaler()),\n",
    "                        (\"pca\", PCA(n_components=7)), \n",
    "                        ('LogR', LogisticRegression())]\n",
    "    \n",
    "    pipeline_scaler_pca=Pipeline(steps_scaler_pca)\n",
    "    \n",
    "    \n",
    "    # Set up our K-fold cross-validation\n",
    "    kf = KFold(5)\n",
    "\n",
    "    # Train our models using KFold cv\n",
    "    CV_trained_model=cross_val_score(pipeline_scaler_pca, features, labels, cv=kf)\n",
    "\n",
    "    return CV_trained_model"
   ]
  },
  {
   "cell_type": "code",
   "execution_count": 21,
   "metadata": {},
   "outputs": [],
   "source": [
    "\n",
    "def CV_Tune_LogR(features,labels):\n",
    "    \n",
    "    LogR=LogisticRegression()\n",
    "\n",
    "        \n",
    "     # Specify the hyperparameter space\n",
    "    c_space =np.logspace(-5, 8, 15)\n",
    "    parameters = {'C': c_space}\n",
    "        \n",
    "    # Instantiate the GridSearchCV object: cv\n",
    "    cv = GridSearchCV(LogR,parameters,cv=5)\n",
    "\n",
    "    # Fit to the training set\n",
    "    trained_model=cv.fit(features,labels)\n",
    "        \n",
    "    return trained_model\n",
    "\n",
    "        # Predict the labels of the test set: y_pred\n",
    "       # y_pred = cv.predict(X_test)\n",
    "\n",
    "        # Compute and print metrics\n",
    "       # print(\"Accuracy: {}\".format(cv.score(X_test, y_test)))\n",
    "        #print(classification_report(y_test, y_pred))\n",
    "        #print(\"Tuned Model Parameters: {}\".format(cv.best_params_))\n"
   ]
  },
  {
   "cell_type": "markdown",
   "metadata": {},
   "source": [
    "def tuned_LogR_Scaler_PCA(features,labels):\n",
    "\n",
    "    steps_scaler_pca = [('scaler', StandardScaler()),\n",
    "                        (\"pca\", PCA(n_components=7)), \n",
    "                        ('LogR', LogisticRegression())]\n",
    "    \n",
    "    pipeline_scaler_pca=Pipeline(steps_scaler_pca)\n",
    "        \n",
    "        # Specify the hyperparameter space\n",
    "    c_space = np.logspace(-5, 8, 15)\n",
    "    parameters = {'C': c_space}\n",
    "\n",
    "        \n",
    "        # Instantiate the GridSearchCV object: cv\n",
    "    cv = GridSearchCV(pipeline_scaler_pca,parameters,cv=5)\n",
    "\n",
    "        # Fit to the training set\n",
    "    trained_model=cv.fit(features,labels)\n",
    "        \n",
    "    return trained_model"
   ]
  }
 ],
 "metadata": {
  "kernelspec": {
   "display_name": "Python 3",
   "language": "python",
   "name": "python3"
  },
  "language_info": {
   "codemirror_mode": {
    "name": "ipython",
    "version": 3
   },
   "file_extension": ".py",
   "mimetype": "text/x-python",
   "name": "python",
   "nbconvert_exporter": "python",
   "pygments_lexer": "ipython3",
   "version": "3.7.4"
  }
 },
 "nbformat": 4,
 "nbformat_minor": 2
}
