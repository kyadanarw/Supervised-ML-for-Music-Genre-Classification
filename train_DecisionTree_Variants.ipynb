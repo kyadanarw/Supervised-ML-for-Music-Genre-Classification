{
 "cells": [
  {
   "cell_type": "code",
   "execution_count": 1,
   "metadata": {},
   "outputs": [],
   "source": [
    "#Import necessary libraries\n",
    "from sklearn.preprocessing import StandardScaler\n",
    "from sklearn.tree import DecisionTreeClassifier\n",
    "from sklearn.pipeline import Pipeline\n",
    "from sklearn.metrics import classification_report,confusion_matrix\n",
    "from sklearn.decomposition import PCA\n",
    "from sklearn.model_selection import KFold, cross_val_score,GridSearchCV\n",
    "from scipy.stats import randint\n",
    "import numpy as np"
   ]
  },
  {
   "cell_type": "code",
   "execution_count": 2,
   "metadata": {},
   "outputs": [],
   "source": [
    "\n",
    "def plain_DecistionTree(features, labels):\n",
    "    \n",
    "\n",
    "    steps_plain_classifier= [('DT', DecisionTreeClassifier(random_state=10))]\n",
    "    \n",
    "    pipeline_plain=Pipeline(steps_plain_classifier)\n",
    "    \n",
    "    #train with plain classifier\n",
    "    trained_model=pipeline_plainDT.fit(features,labels)\n",
    "    \n",
    "    return trained_plainDT\n",
    "\n"
   ]
  },
  {
   "cell_type": "code",
   "execution_count": 3,
   "metadata": {},
   "outputs": [],
   "source": [
    "def DecisinTree_with_Scaled(features, labels):\n",
    "    \n",
    "    steps_scaler= [('scaler', StandardScaler()),\n",
    "                   ('DT', DecisionTreeClassifier(random_state=10))]\n",
    "    \n",
    "    pipeline_scaler=Pipeline(steps_scaler)\n",
    "    \n",
    "    #train with preprocessed data\n",
    "    trained_model=pipeline_scaler.fit(features,labels)\n",
    "    \n",
    "    return trained_model\n"
   ]
  },
  {
   "cell_type": "code",
   "execution_count": 4,
   "metadata": {},
   "outputs": [],
   "source": [
    "def DT_with_Scaled_PCA(features, labels):\n",
    "\n",
    "\n",
    "    steps_scaler_pca = [('scaler', StandardScaler()),\n",
    "                        (\"pca\", PCA(n_components=7)), \n",
    "                        ('DT', DecisionTreeClassifier(random_state=10))]\n",
    "    \n",
    "    pipeline_scaler_pca=Pipeline(steps_scaler_pca)\n",
    "    \n",
    "    #train with preprocessed data\n",
    "    trained_model=pipeline_scaler_pca.fit(features,labels)\n",
    "    \n",
    "    return trained_model"
   ]
  },
  {
   "cell_type": "code",
   "execution_count": 5,
   "metadata": {},
   "outputs": [],
   "source": [
    "def CV_plain_DT(features,labels):\n",
    "    \n",
    "    steps_plain_classifier= [('DT', DecisionTreeClassifier(random_state=10))]\n",
    "    \n",
    "    pipeline_plain=Pipeline(steps_plain_classifier)\n",
    "    \n",
    "    # Set up our K-fold cross-validation\n",
    "    kf = KFold(5)\n",
    "\n",
    "    # Train our models using KFold cv\n",
    "    CV_trained_model=cross_val_score(pipeline_plain, features, labels, cv=kf)\n",
    "\n",
    "    return CV_trained_model\n",
    "    "
   ]
  },
  {
   "cell_type": "code",
   "execution_count": 6,
   "metadata": {},
   "outputs": [],
   "source": [
    "def CV_DT_with_Scaling(features,labels):\n",
    "    \n",
    "    \n",
    "    steps_scaler= [('scaler', StandardScaler()),\n",
    "                   ('DT', DecisionTreeClassifier(random_state=10))]\n",
    "    \n",
    "    pipeline_scaler=Pipeline(steps_scaler)\n",
    "    \n",
    "    # Set up our K-fold cross-validation\n",
    "    kf = KFold(5)\n",
    "\n",
    "    # Train our models using KFold cv\n",
    "    CV_trained_model=cross_val_score(pipeline_scaler, features, labels, cv=kf)\n",
    "\n",
    "    return CV_trained_model"
   ]
  },
  {
   "cell_type": "code",
   "execution_count": 7,
   "metadata": {},
   "outputs": [],
   "source": [
    "def CV_DT_with_Scaling_PCA(features,labels):\n",
    "    \n",
    "\n",
    "    steps_scaler_pca = [('scaler', StandardScaler()),\n",
    "                        (\"pca\", PCA(n_components=7)), \n",
    "                        ('DT', DecisionTreeClassifier(random_state=10))]\n",
    "    \n",
    "    pipeline_scaler_pca=Pipeline(steps_scaler_pca)\n",
    "    \n",
    "    \n",
    "    # Set up our K-fold cross-validation\n",
    "    kf = KFold(5)\n",
    "\n",
    "    # Train our models using KFold cv\n",
    "    CV_trained_model=cross_val_score(pipeline_scaler_pca, features, labels, cv=kf)\n",
    "\n",
    "    return CV_trained_model"
   ]
  },
  {
   "cell_type": "code",
   "execution_count": 8,
   "metadata": {},
   "outputs": [],
   "source": [
    "\n",
    "def CV_Tuned_DT(features,labels):\n",
    "    \n",
    "    dt= DecisionTreeClassifier()\n",
    "\n",
    "\n",
    "     # Specify the hyperparameter space\n",
    "    param_grid = { 'criterion':['gini','entropy'],'max_depth': np.arange(3, 9)}\n",
    "\n",
    "        \n",
    "    # Instantiate the GridSearchCV object: cv\n",
    "    cv = GridSearchCV(dt,param_grid,cv=5)\n",
    "\n",
    "    # Fit to the training set\n",
    "    trained_model=cv.fit(features,labels)\n",
    "        \n",
    "    return trained_model\n",
    "\n",
    "        # Predict the labels of the test set: y_pred\n",
    "       # y_pred = cv.predict(X_test)\n",
    "\n",
    "        # Compute and print metrics\n",
    "       # print(\"Accuracy: {}\".format(cv.score(X_test, y_test)))\n",
    "        #print(classification_report(y_test, y_pred))\n",
    "        #print(\"Tuned Model Parameters: {}\".format(cv.best_params_))\n"
   ]
  },
  {
   "cell_type": "code",
   "execution_count": 9,
   "metadata": {},
   "outputs": [],
   "source": [
    "def tuned_DT_Scaler_PCA(features,labels):\n",
    "\n",
    "    steps_scaler_pca = [('scaler', StandardScaler()),\n",
    "                        (\"pca\", PCA(n_components=7)), \n",
    "                        ('DT', DecisionTreeClassifier(random_state=10))]\n",
    "    \n",
    "    pipeline_scaler_pca=Pipeline(steps_scaler_pca)\n",
    "        \n",
    "        # Specify the hyperparameter space\n",
    "    parameters = {\"max_depth\": [3, None],\n",
    "              \"max_features\": randint(1, 7),\n",
    "              \"min_samples_leaf\": randint(1, 7),\n",
    "              \"criterion\": [\"gini\", \"entropy\"]}\n",
    "\n",
    "        \n",
    "        # Instantiate the GridSearchCV object: cv\n",
    "    cv = GridSearchCV(pipeline_scaler_pca,parameters,cv=5)\n",
    "\n",
    "        # Fit to the training set\n",
    "    trained_model=cv.fit(features,labels)\n",
    "        \n",
    "    return trained_model"
   ]
  },
  {
   "cell_type": "code",
   "execution_count": null,
   "metadata": {},
   "outputs": [],
   "source": []
  }
 ],
 "metadata": {
  "kernelspec": {
   "display_name": "Python 3",
   "language": "python",
   "name": "python3"
  },
  "language_info": {
   "codemirror_mode": {
    "name": "ipython",
    "version": 3
   },
   "file_extension": ".py",
   "mimetype": "text/x-python",
   "name": "python",
   "nbconvert_exporter": "python",
   "pygments_lexer": "ipython3",
   "version": "3.7.4"
  }
 },
 "nbformat": 4,
 "nbformat_minor": 2
}
