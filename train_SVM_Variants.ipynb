{
 "cells": [
  {
   "cell_type": "code",
   "execution_count": null,
   "metadata": {},
   "outputs": [],
   "source": [
    "#Import necessary libraries\n",
    "from sklearn.preprocessing import StandardScaler\n",
    "from sklearn.svm import SVC\n",
    "from sklearn.pipeline import Pipeline\n",
    "from sklearn.metrics import classification_report,confusion_matrix\n",
    "from sklearn.decomposition import PCA\n",
    "from sklearn.model_selection import KFold, cross_val_score,GridSearchCV\n"
   ]
  },
  {
   "cell_type": "code",
   "execution_count": null,
   "metadata": {},
   "outputs": [],
   "source": [
    "\n",
    "def plain_SVM(features, labels):\n",
    "\n",
    "    steps_plain_classifier= [('SVM', SVC())]\n",
    "    \n",
    "    pipeline_plainSVM=Pipeline(steps_plain_classifier)\n",
    "    \n",
    "    #train with plain classifier\n",
    "    trained_plainSVM=pipeline_plainSVM.fit(features,labels)\n",
    "    \n",
    "    return trained_plainSVM\n",
    "\n"
   ]
  },
  {
   "cell_type": "code",
   "execution_count": null,
   "metadata": {},
   "outputs": [],
   "source": [
    "def SVM_with_Scaled(features, labels):\n",
    "\n",
    "    \n",
    "    steps_scaler= [('scaler', StandardScaler()),\n",
    "                   ('SVM', SVC())]\n",
    "    \n",
    "    pipeline_scaler=Pipeline(steps_scaler)\n",
    "    \n",
    "    #train with preprocessed data\n",
    "    trained_SVM_preprocessed=pipeline_scaler.fit(features,labels)\n",
    "    \n",
    "    return trained_SVM_preprocessed\n"
   ]
  },
  {
   "cell_type": "code",
   "execution_count": null,
   "metadata": {},
   "outputs": [],
   "source": [
    "def SVM_with_Scaled_PCA(features, labels):\n",
    "\n",
    "\n",
    "    steps_scaler_pca = [('scaler', StandardScaler()),\n",
    "                        (\"pca\", PCA(n_components=7)), \n",
    "                        ('SVM', SVC())]\n",
    "    \n",
    "    pipeline_scaler_pca=Pipeline(steps_scaler_pca)\n",
    "    \n",
    "    #train with preprocessed data\n",
    "    trained_SVM_preprocessed_PCA=pipeline_scaler_pca.fit(features,labels)\n",
    "    \n",
    "    return trained_SVM_preprocessed_PCA"
   ]
  },
  {
   "cell_type": "code",
   "execution_count": null,
   "metadata": {},
   "outputs": [],
   "source": [
    "def CV_plain_SVM(features,labels):\n",
    "    \n",
    "    steps_plain_classifier= [('SVM', SVC())]\n",
    "    \n",
    "    pipeline_plainSVM=Pipeline(steps_plain_classifier)\n",
    "    \n",
    "    # Set up our K-fold cross-validation\n",
    "    kf = KFold(5)\n",
    "\n",
    "    # Train our models using KFold cv\n",
    "    CV_trained_plainSVM=cross_val_score(pipeline_plainSVM, features, labels, cv=kf)\n",
    "\n",
    "    return CV_trained_plainSVM\n",
    "    "
   ]
  },
  {
   "cell_type": "code",
   "execution_count": null,
   "metadata": {},
   "outputs": [],
   "source": [
    "def CV_SVM_with_Scaling(features,labels):\n",
    "    \n",
    "    \n",
    "    steps_scaler= [('scaler', StandardScaler()),\n",
    "                   ('SVM', SVC())]\n",
    "    \n",
    "    pipeline_scaler=Pipeline(steps_scaler)\n",
    "    \n",
    "    # Set up our K-fold cross-validation\n",
    "    kf = KFold(5)\n",
    "\n",
    "    # Train our models using KFold cv\n",
    "    trained_model=cross_val_score(pipeline_scaler, features, labels, cv=kf)\n",
    "\n",
    "    return trained_model"
   ]
  },
  {
   "cell_type": "code",
   "execution_count": null,
   "metadata": {},
   "outputs": [],
   "source": [
    "def CV_SVM_with_Scaling_PCA(features,labels):\n",
    "    \n",
    "\n",
    "\n",
    "    steps_scaler_pca = [('scaler', StandardScaler()),\n",
    "                        (\"pca\", PCA(n_components=7)), \n",
    "                        ('SVM', SVC())]\n",
    "    \n",
    "    pipeline_scaler_pca=Pipeline(steps_scaler_pca)\n",
    "    \n",
    "    \n",
    "    # Set up our K-fold cross-validation\n",
    "    kf = KFold(5)\n",
    "\n",
    "    # Train our models using KFold cv\n",
    "    trained_model=cross_val_score(pipeline_scaler_pca, features, labels, cv=kf)\n",
    "\n",
    "    return trained_model"
   ]
  },
  {
   "cell_type": "code",
   "execution_count": null,
   "metadata": {},
   "outputs": [],
   "source": [
    "\n",
    "def CV_Tuned_SVM(features,labels):\n",
    "    \n",
    "    svm= SVC()\n",
    "    \n",
    "    # Specify the hyperparameter space\n",
    "    parameters = {'C':[1, 10, 100],\n",
    "              'gamma':[0.1, 0.01]}\n",
    "        \n",
    "        # Instantiate the GridSearchCV object: cv\n",
    "    cv = GridSearchCV(svm,parameters,cv=5)\n",
    "\n",
    "        # Fit to the training set\n",
    "    trained_model=cv.fit(features,labels)\n",
    "        \n",
    "    return trained_model\n",
    "\n",
    "        # Predict the labels of the test set: y_pred\n",
    "       # y_pred = cv.predict(X_test)\n",
    "\n",
    "        # Compute and print metrics\n",
    "       # print(\"Accuracy: {}\".format(cv.score(X_test, y_test)))\n",
    "        #print(classification_report(y_test, y_pred))\n",
    "        #print(\"Tuned Model Parameters: {}\".format(cv.best_params_))\n"
   ]
  }
 ],
 "metadata": {
  "kernelspec": {
   "display_name": "Python 3",
   "language": "python",
   "name": "python3"
  },
  "language_info": {
   "codemirror_mode": {
    "name": "ipython",
    "version": 3
   },
   "file_extension": ".py",
   "mimetype": "text/x-python",
   "name": "python",
   "nbconvert_exporter": "python",
   "pygments_lexer": "ipython3",
   "version": "3.7.4"
  }
 },
 "nbformat": 4,
 "nbformat_minor": 2
}
