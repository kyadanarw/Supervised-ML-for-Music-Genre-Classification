{
 "cells": [
  {
   "cell_type": "code",
   "execution_count": 6,
   "metadata": {},
   "outputs": [],
   "source": [
    "#Import necessary libraries\n",
    "from sklearn.preprocessing import StandardScaler\n",
    "from sklearn.ensemble import RandomForestClassifier\n",
    "from sklearn.pipeline import Pipeline\n",
    "from sklearn.metrics import classification_report,confusion_matrix\n",
    "from sklearn.decomposition import PCA\n",
    "from sklearn.model_selection import KFold, cross_val_score,GridSearchCV"
   ]
  },
  {
   "cell_type": "code",
   "execution_count": 7,
   "metadata": {},
   "outputs": [],
   "source": [
    "def CV_RandomForest(features,labels):\n",
    "    rf=RandomForestClassifier()\n",
    "    \n",
    "    params_rf = {'n_estimators':[100,350,500],\n",
    "             'max_features':['log2','auto','sqrt'],\n",
    "             'min_samples_leaf':[2,10,30]}\n",
    "    \n",
    "    # Instantiate grid_rf\n",
    "    cv = GridSearchCV(rf,params_rf,cv=5)\n",
    "\n",
    "    # Fit to the training set\n",
    "    trained_model=cv.fit(features,labels)\n",
    "    \n",
    "    return trained_model"
   ]
  },
  {
   "cell_type": "code",
   "execution_count": 8,
   "metadata": {},
   "outputs": [],
   "source": [
    "def CV_RandomForest_Scaler_PCA(features,labels):\n",
    "    \n",
    "    steps_scaler_pca= [('scaler', StandardScaler()),\n",
    "                    (\"pca\", PCA(n_components=7)), \n",
    "                    ('rf', RandomForestClassifier())]\n",
    "    pipeline= Pipeline(steps_scaler_pca)\n",
    "    \n",
    "    params_rf = {'rf__n_estimators':[100,350,500],\n",
    "             'rf__max_features':['log2','auto','sqrt'],\n",
    "             'rf__min_samples_leaf':[2,10,30]}\n",
    "    \n",
    "\n",
    "    # Instantiate grid_rf\n",
    "    cv = GridSearchCV(pipeline,params_rf,cv=5)\n",
    "\n",
    "    # Fit to the training set\n",
    "    trained_model=cv.fit(features,labels)\n",
    "    return trained_model"
   ]
  },
  {
   "cell_type": "code",
   "execution_count": null,
   "metadata": {},
   "outputs": [],
   "source": []
  },
  {
   "cell_type": "code",
   "execution_count": null,
   "metadata": {},
   "outputs": [],
   "source": [
    "\n"
   ]
  },
  {
   "cell_type": "code",
   "execution_count": null,
   "metadata": {},
   "outputs": [],
   "source": []
  }
 ],
 "metadata": {
  "kernelspec": {
   "display_name": "Python 3",
   "language": "python",
   "name": "python3"
  },
  "language_info": {
   "codemirror_mode": {
    "name": "ipython",
    "version": 3
   },
   "file_extension": ".py",
   "mimetype": "text/x-python",
   "name": "python",
   "nbconvert_exporter": "python",
   "pygments_lexer": "ipython3",
   "version": "3.7.4"
  }
 },
 "nbformat": 4,
 "nbformat_minor": 2
}
