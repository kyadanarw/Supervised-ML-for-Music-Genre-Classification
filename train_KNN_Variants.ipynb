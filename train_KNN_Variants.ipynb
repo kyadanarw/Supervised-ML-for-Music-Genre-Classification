{
 "cells": [
  {
   "cell_type": "code",
   "execution_count": 2,
   "metadata": {},
   "outputs": [],
   "source": [
    "#Import necessary libraries\n",
    "from sklearn.preprocessing import StandardScaler\n",
    "from sklearn.neighbors import KNeighborsClassifier\n",
    "from sklearn.pipeline import Pipeline\n",
    "from sklearn.metrics import classification_report,confusion_matrix\n",
    "from sklearn.decomposition import PCA\n",
    "from sklearn.model_selection import KFold, cross_val_score,GridSearchCV\n"
   ]
  },
  {
   "cell_type": "code",
   "execution_count": null,
   "metadata": {},
   "outputs": [],
   "source": [
    "\n",
    "def CV_KNN(features,labels):\n",
    "    \n",
    "    knn=KNeighborsClassifier()\n",
    "    nn=range(1,10)\n",
    "    param_grid = {'n_neighbors': nn}\n",
    "        \n",
    "    # Instantiate the GridSearchCV object: cv\n",
    "    cv = GridSearchCV(knn,param_grid,cv=5)\n",
    "\n",
    "    # Fit to the training set\n",
    "    trained_model=cv.fit(features,labels)\n",
    "        \n",
    "    return trained_model\n",
    "\n",
    "        # Predict the labels of the test set: y_pred\n",
    "       # y_pred = cv.predict(X_test)\n",
    "\n",
    "        # Compute and print metrics\n",
    "       # print(\"Accuracy: {}\".format(cv.score(X_test, y_test)))\n",
    "        #print(classification_report(y_test, y_pred))\n",
    "        #print(\"Tuned Model Parameters: {}\".format(cv.best_params_))"
   ]
  },
  {
   "cell_type": "code",
   "execution_count": 3,
   "metadata": {},
   "outputs": [],
   "source": [
    "\n",
    "def CV_KNN_Scaler(features,labels):\n",
    "    \n",
    "    steps= [('scaler', StandardScaler()),('KNN',KNeighborsClassifier())]\n",
    "    pipeline = Pipeline(steps)\n",
    "\n",
    "\n",
    "    n=range(1,10)\n",
    "        \n",
    "     # Specify the hyperparameter space\n",
    "    parameters ={'KNN__n_neighbors': n}\n",
    "        \n",
    "    # Instantiate the GridSearchCV object: cv\n",
    "    cv = GridSearchCV(pipeline,parameters,cv=5)\n",
    "\n",
    "    # Fit to the training set\n",
    "    trained_model=cv.fit(features,labels)\n",
    "        \n",
    "    return trained_model\n",
    "\n",
    "        # Predict the labels of the test set: y_pred\n",
    "       # y_pred = cv.predict(X_test)\n",
    "\n",
    "        # Compute and print metrics\n",
    "       # print(\"Accuracy: {}\".format(cv.score(X_test, y_test)))\n",
    "        #print(classification_report(y_test, y_pred))\n",
    "        #print(\"Tuned Model Parameters: {}\".format(cv.best_params_))\n"
   ]
  },
  {
   "cell_type": "code",
   "execution_count": 4,
   "metadata": {},
   "outputs": [],
   "source": [
    "\n",
    "def CV_KNN_Scaler_PCA(features,labels):\n",
    "    steps_scaler_pca= [('scaler', StandardScaler()),\n",
    "                    (\"pca\", PCA(n_components=7)), \n",
    "                    ('KNN', KNeighborsClassifier())]\n",
    "    pipeline= Pipeline(steps_scaler_pca)\n",
    "\n",
    "\n",
    "    n=range(1,10)\n",
    "        \n",
    "     # Specify the hyperparameter space\n",
    "    parameters ={'KNN__n_neighbors': n}\n",
    "        \n",
    "    # Instantiate the GridSearchCV object: cv\n",
    "    cv = GridSearchCV(pipeline,parameters,cv=5)\n",
    "\n",
    "    # Fit to the training set\n",
    "    trained_model=cv.fit(features,labels)\n",
    "        \n",
    "    return trained_model\n"
   ]
  },
  {
   "cell_type": "code",
   "execution_count": 8,
   "metadata": {},
   "outputs": [
    {
     "name": "stdout",
     "output_type": "stream",
     "text": [
      "KNeighborsClassifier()\n"
     ]
    }
   ],
   "source": [
    "knn=KNeighborsClassifier(n_neighbors=5)\n",
    "print(knn)"
   ]
  }
 ],
 "metadata": {
  "kernelspec": {
   "display_name": "Python 3",
   "language": "python",
   "name": "python3"
  },
  "language_info": {
   "codemirror_mode": {
    "name": "ipython",
    "version": 3
   },
   "file_extension": ".py",
   "mimetype": "text/x-python",
   "name": "python",
   "nbconvert_exporter": "python",
   "pygments_lexer": "ipython3",
   "version": "3.7.4"
  }
 },
 "nbformat": 4,
 "nbformat_minor": 2
}
